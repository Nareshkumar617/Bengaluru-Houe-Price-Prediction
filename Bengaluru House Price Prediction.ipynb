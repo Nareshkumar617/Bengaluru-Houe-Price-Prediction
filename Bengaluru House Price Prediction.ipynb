{
 "cells": [
  {
   "cell_type": "markdown",
   "id": "e676f876",
   "metadata": {},
   "source": [
    "#   Import Library"
   ]
  },
  {
   "cell_type": "code",
   "execution_count": 1,
   "id": "bd00d0fc",
   "metadata": {},
   "outputs": [],
   "source": [
    "import pandas as pd\n",
    "import numpy as np\n",
    "import matplotlib.pyplot as plt\n",
    "import seaborn as sns\n",
    "import scipy.stats as stats"
   ]
  },
  {
   "cell_type": "markdown",
   "id": "038dd9bc",
   "metadata": {},
   "source": [
    "#   Load Dataset"
   ]
  },
  {
   "cell_type": "code",
   "execution_count": 2,
   "id": "44ccdda6",
   "metadata": {},
   "outputs": [
    {
     "name": "stdout",
     "output_type": "stream",
     "text": [
      "<class 'pandas.core.frame.DataFrame'>\n",
      "RangeIndex: 13320 entries, 0 to 13319\n",
      "Data columns (total 9 columns):\n",
      " #   Column        Non-Null Count  Dtype  \n",
      "---  ------        --------------  -----  \n",
      " 0   area_type     13320 non-null  object \n",
      " 1   availability  13320 non-null  object \n",
      " 2   location      13319 non-null  object \n",
      " 3   size          13304 non-null  object \n",
      " 4   society       7818 non-null   object \n",
      " 5   total_sqft    13320 non-null  object \n",
      " 6   bath          13247 non-null  float64\n",
      " 7   balcony       12711 non-null  float64\n",
      " 8   price         13320 non-null  float64\n",
      "dtypes: float64(3), object(6)\n",
      "memory usage: 936.7+ KB\n",
      "None\n"
     ]
    }
   ],
   "source": [
    "df = pd.read_csv('bengaluru_house_prices.csv')\n",
    "print(df.info())"
   ]
  },
  {
   "cell_type": "markdown",
   "id": "63d50b0d",
   "metadata": {},
   "source": [
    "# EDA"
   ]
  },
  {
   "cell_type": "code",
   "execution_count": 3,
   "id": "cf2c2943",
   "metadata": {},
   "outputs": [
    {
     "name": "stdout",
     "output_type": "stream",
     "text": [
      "area_type          0\n",
      "availability       0\n",
      "location           1\n",
      "size              16\n",
      "society         5502\n",
      "total_sqft         0\n",
      "bath              73\n",
      "balcony          609\n",
      "price              0\n",
      "dtype: int64\n"
     ]
    }
   ],
   "source": [
    "## Find if there are any missing values present\n",
    "print(df.isnull().sum())"
   ]
  },
  {
   "cell_type": "code",
   "execution_count": 4,
   "id": "fe7c535c",
   "metadata": {},
   "outputs": [],
   "source": [
    "pr = df.copy(deep = True)"
   ]
  },
  {
   "cell_type": "code",
   "execution_count": 5,
   "id": "5f6dc5d2",
   "metadata": {},
   "outputs": [],
   "source": [
    "## Filling Null values in columns- Bath & Balcony by Interpolation\n",
    "pr['bath'] = pr['bath'].interpolate(method='linear')\n",
    "pr['balcony'] = pr['balcony'].interpolate(method='linear')"
   ]
  },
  {
   "cell_type": "code",
   "execution_count": 6,
   "id": "1e0c4c33",
   "metadata": {},
   "outputs": [],
   "source": [
    "## columns- society,size and location is in string data.We can't use interpolate. \n",
    "## We have to try different method\n",
    "## Replace Null value in location column with \"Location Not Provided\"\n",
    "pr['location'] = pr['location'].fillna('Location Not Provided')\n"
   ]
  },
  {
   "cell_type": "code",
   "execution_count": 7,
   "id": "39cffc62",
   "metadata": {},
   "outputs": [
    {
     "name": "stderr",
     "output_type": "stream",
     "text": [
      "C:\\Users\\INDIA\\AppData\\Local\\Temp\\ipykernel_7584\\2820789314.py:3: FutureWarning: The default value of regex will change from True to False in a future version.\n",
      "  pr[\"size\"]= pr[\"size\"].str.replace(r'\\D', '')\n"
     ]
    }
   ],
   "source": [
    "## In Column-Size,Remove strings like Bedroom,BHK,RK. \n",
    "## Keep only numbers indicating the size.\n",
    "pr[\"size\"]= pr[\"size\"].str.replace(r'\\D', '')\n"
   ]
  },
  {
   "cell_type": "code",
   "execution_count": 8,
   "id": "a385037d",
   "metadata": {},
   "outputs": [],
   "source": [
    "### Remove Null Values in column-size\n",
    "pr['size'] = pr.size.astype(float)\n",
    "pr['size'] = pr['size'].interpolate(method='linear')"
   ]
  },
  {
   "cell_type": "code",
   "execution_count": 9,
   "id": "c19be41e",
   "metadata": {},
   "outputs": [],
   "source": [
    "### Large data is missing in society column, so it is removed.\n",
    "pr = pr.drop(['society'],axis=1)"
   ]
  },
  {
   "cell_type": "code",
   "execution_count": 10,
   "id": "ee50b75f",
   "metadata": {},
   "outputs": [],
   "source": [
    "### In Sq.ft column, removing unnecessary things like \"-\"\n",
    "import re\n",
    "x = pr[\"total_sqft\"]\n",
    "a = []\n",
    "b = []\n",
    "for i in x:\n",
    "  if ' - ' in str(i):\n",
    "    a.append(str(i))\n",
    "\n",
    "for i in range(len(a)):\n",
    "  txt=a[i]\n",
    "  sp = re.split(\" - \", txt)\n",
    "  sum=float(sp[0])+float(sp[1])\n",
    "  # print(sum/2)\n",
    "  b.append(str(sum/2))\n",
    "\n",
    "m = 0\n",
    "for i in (x):\n",
    "  if ' - ' in i:\n",
    "    pr['total_sqft'].replace({i:b[m]}, inplace=True)\n",
    "    m += 1\n",
    "z = pr['total_sqft']"
   ]
  },
  {
   "cell_type": "code",
   "execution_count": 11,
   "id": "e4f53bb9",
   "metadata": {},
   "outputs": [],
   "source": [
    "### Changing different Units to Sq.ft\n",
    "for i in (pr[\"total_sqft\"]):\n",
    "\n",
    "  if 'Sq. Meter' in str(i):\n",
    "    a=re.split(\"Sq. Meter\", str(i))\n",
    "    m=float(a[0])*10.763910\n",
    "    pr['total_sqft'].replace({i:m}, inplace=True)\n",
    "  \n",
    "  elif 'Sq. Yards' in str(i):\n",
    "    a=re.split(\"Sq. Yards\", str(i))\n",
    "    m=float(a[0])*9.0\n",
    "    pr['total_sqft'].replace({i:m}, inplace=True)\n",
    "\n",
    "  elif 'Perch' in str(i):\n",
    "    a=re.split(\"Perch\", str(i))\n",
    "    m=float(a[0])*272.25\n",
    "    pr['total_sqft'].replace({i:m}, inplace=True)\n",
    "\n",
    "  elif 'Acres' in str(i):\n",
    "    a=re.split(\"Acres\", str(i))\n",
    "    m=float(a[0])*43560.0\n",
    "    pr['total_sqft'].replace({i:m}, inplace=True)\n",
    "\n",
    "  elif 'Cents' in str(i):\n",
    "    a=re.split(\"Cents\", str(i))\n",
    "    m=float(a[0])*435.61545\n",
    "    pr['total_sqft'].replace({i:m}, inplace=True)\n",
    "\n",
    "  elif 'Guntha' in str(i):\n",
    "    a=re.split(\"Guntha\", str(i))\n",
    "    m=float(a[0])*1089.0\n",
    "    pr['total_sqft'].replace({i:m}, inplace=True)\n",
    "\n",
    "  elif 'Grounds' in str(i):\n",
    "    a=re.split(\"Grounds\", str(i))\n",
    "    m=float(a[0])*2400.0\n",
    "    pr['total_sqft'].replace({i:m}, inplace=True)"
   ]
  },
  {
   "cell_type": "code",
   "execution_count": 12,
   "id": "ae5c66db",
   "metadata": {},
   "outputs": [],
   "source": [
    "### Changing datatypes of sq.ft to float\n",
    "pr['total_sqft'] = pr.total_sqft.astype(float)\n"
   ]
  },
  {
   "cell_type": "code",
   "execution_count": 13,
   "id": "37755908",
   "metadata": {},
   "outputs": [],
   "source": [
    "## converting unique values in Area_type to 1,2,3,4 \n",
    "## changing datatype to float\n",
    "\n",
    "pr['area_type'].replace(to_replace=['Super built-up  Area', 'Plot  Area', 'Built-up  Area',\n",
    "                'Carpet  Area'],value = [0,1,2,3],inplace=True)\n",
    "\n",
    "pr['area_type'] = pr.area_type.astype(float)\n"
   ]
  },
  {
   "cell_type": "code",
   "execution_count": 14,
   "id": "f7763b2b",
   "metadata": {},
   "outputs": [],
   "source": [
    "## changing availability column to 0,1,2\n",
    "\n",
    "def replace_availabilty(my_string):\n",
    "    if my_string == 'Ready To Move':\n",
    "        return 0\n",
    "    elif my_string == 'Immediate Possession':\n",
    "        return 1\n",
    "    else:\n",
    "        return 2\n",
    "\n",
    "pr['availability'] = pr['availability'].apply(replace_availabilty)\n",
    "pr['availability'] = pr.availability.astype(float)"
   ]
  },
  {
   "cell_type": "code",
   "execution_count": 15,
   "id": "b9a2a5e7",
   "metadata": {},
   "outputs": [],
   "source": [
    "## Applying label encoder to location column\n",
    "\n",
    "from sklearn.preprocessing import LabelEncoder\n",
    "le = LabelEncoder()\n",
    "pr['location']= le.fit_transform(pr['location'])\n",
    "pr['location'] = pr.location.astype(float)"
   ]
  },
  {
   "cell_type": "code",
   "execution_count": 16,
   "id": "040df709",
   "metadata": {},
   "outputs": [
    {
     "name": "stdout",
     "output_type": "stream",
     "text": [
      "<class 'pandas.core.frame.DataFrame'>\n",
      "RangeIndex: 13320 entries, 0 to 13319\n",
      "Data columns (total 9 columns):\n",
      " #   Column          Non-Null Count  Dtype  \n",
      "---  ------          --------------  -----  \n",
      " 0   area_type       13320 non-null  float64\n",
      " 1   availability    13320 non-null  float64\n",
      " 2   location        13320 non-null  float64\n",
      " 3   size            13320 non-null  float64\n",
      " 4   total_sqft      13320 non-null  float64\n",
      " 5   bath            13320 non-null  float64\n",
      " 6   balcony         13320 non-null  float64\n",
      " 7   price           13320 non-null  float64\n",
      " 8   price_per_sqft  13320 non-null  float64\n",
      "dtypes: float64(9)\n",
      "memory usage: 936.7 KB\n",
      "None\n"
     ]
    }
   ],
   "source": [
    "# Creating a column \"Price_per_sqft\" by converting price into lakhs and dividing it by total_sqft\n",
    "pr['price_per_sqft'] = pr['price']*100000 / pr['total_sqft']  \n",
    "print(pr.info())\n"
   ]
  },
  {
   "cell_type": "markdown",
   "id": "8e1c9193",
   "metadata": {},
   "source": [
    "# Removing Outliers"
   ]
  },
  {
   "cell_type": "code",
   "execution_count": 17,
   "id": "8bb48d4a",
   "metadata": {},
   "outputs": [
    {
     "name": "stdout",
     "output_type": "stream",
     "text": [
      "<class 'pandas.core.frame.DataFrame'>\n",
      "Int64Index: 10558 entries, 0 to 13317\n",
      "Data columns (total 9 columns):\n",
      " #   Column          Non-Null Count  Dtype  \n",
      "---  ------          --------------  -----  \n",
      " 0   area_type       10558 non-null  float64\n",
      " 1   availability    10558 non-null  float64\n",
      " 2   location        10558 non-null  float64\n",
      " 3   size            10558 non-null  float64\n",
      " 4   total_sqft      10558 non-null  float64\n",
      " 5   bath            10558 non-null  float64\n",
      " 6   balcony         10558 non-null  float64\n",
      " 7   price           10558 non-null  float64\n",
      " 8   price_per_sqft  10558 non-null  float64\n",
      "dtypes: float64(9)\n",
      "memory usage: 824.8 KB\n",
      "None\n"
     ]
    }
   ],
   "source": [
    "import category_encoders as ce\n",
    "percent10 = pr['price'].quantile(0.10)\n",
    "percent90 = pr['price'].quantile(0.90)\n",
    "pr_1 = pr[(pr['price'] > percent10) & (pr['price'] < percent90)]\n",
    "print(pr_1.info())"
   ]
  },
  {
   "cell_type": "markdown",
   "id": "507a366a",
   "metadata": {},
   "source": [
    "# Feature Selection"
   ]
  },
  {
   "cell_type": "code",
   "execution_count": 18,
   "id": "be951560",
   "metadata": {},
   "outputs": [
    {
     "data": {
      "image/png": "[encoded data removed]",
      "text/plain": [
       "<Figure size 1000x700 with 2 Axes>"
      ]
     },
     "metadata": {},
     "output_type": "display_data"
    }
   ],
   "source": [
    "## Displaying Correlation values as Heatmap \n",
    "plt.figure(figsize=(10,7))\n",
    "sns.heatmap(pr_1.corr(),annot=True,cmap='cubehelix_r')\n",
    "plt.show()   \n",
    " "
   ]
  },
  {
   "cell_type": "code",
   "execution_count": 19,
   "id": "cb99c7af",
   "metadata": {},
   "outputs": [
    {
     "name": "stdout",
     "output_type": "stream",
     "text": [
      "                area_type  availability  location  size  total_sqft      bath  \\\n",
      "area_type        1.000000     -0.145220 -0.031364   NaN    0.016855  0.168788   \n",
      "availability    -0.145220      1.000000  0.032282   NaN   -0.001508 -0.035094   \n",
      "location        -0.031364      0.032282  1.000000   NaN   -0.003326 -0.006942   \n",
      "size                  NaN           NaN       NaN   NaN         NaN       NaN   \n",
      "total_sqft       0.016855     -0.001508 -0.003326   NaN    1.000000  0.025958   \n",
      "bath             0.168788     -0.035094 -0.006942   NaN    0.025958  1.000000   \n",
      "balcony         -0.108642     -0.110545 -0.015108   NaN   -0.014400  0.141449   \n",
      "price            0.122821     -0.009651 -0.008698   NaN    0.081023  0.535610   \n",
      "price_per_sqft   0.014748     -0.005210  0.011554   NaN   -0.004136  0.027463   \n",
      "\n",
      "                 balcony     price  price_per_sqft  \n",
      "area_type      -0.108642  0.122821        0.014748  \n",
      "availability   -0.110545 -0.009651       -0.005210  \n",
      "location       -0.015108 -0.008698        0.011554  \n",
      "size                 NaN       NaN             NaN  \n",
      "total_sqft     -0.014400  0.081023       -0.004136  \n",
      "bath            0.141449  0.535610        0.027463  \n",
      "balcony         1.000000  0.093465        0.000955  \n",
      "price           0.093465  1.000000        0.026035  \n",
      "price_per_sqft  0.000955  0.026035        1.000000  \n"
     ]
    }
   ],
   "source": [
    "## Displaying Correlation values as text\n",
    "cor = pr_1.corr()\n",
    "print(cor) "
   ]
  },
  {
   "cell_type": "code",
   "execution_count": 20,
   "id": "d4573aee",
   "metadata": {},
   "outputs": [
    {
     "name": "stdout",
     "output_type": "stream",
     "text": [
      "area_type     0.122821\n",
      "total_sqft    0.081023\n",
      "bath          0.535610\n",
      "balcony       0.093465\n",
      "price         1.000000\n",
      "Name: price, dtype: float64\n"
     ]
    }
   ],
   "source": [
    "#Correlation with output variable\n",
    "cor_target = abs(cor[\"price\"])\n",
    "\n",
    "#Selecting highly correlated features\n",
    "\n",
    "relevant_features = cor_target[cor_target > 0.05]\n",
    "print(relevant_features)       "
   ]
  },
  {
   "cell_type": "code",
   "execution_count": 21,
   "id": "4de567ef",
   "metadata": {},
   "outputs": [],
   "source": [
    "#### Standardize Data to avoid Skewness\n",
    "from sklearn.preprocessing import StandardScaler\n",
    "\n",
    "x = pr_1[['bath','area_type','total_sqft','balcony','price_per_sqft']]\n",
    "y = pr_1[\"price\"]\n",
    "sc = StandardScaler()\n",
    "sc.fit(x)\n",
    "X = sc.transform(x)\n"
   ]
  },
  {
   "cell_type": "markdown",
   "id": "89db1407",
   "metadata": {},
   "source": [
    "# Model Selection- Trying Different ML Algorithm"
   ]
  },
  {
   "cell_type": "code",
   "execution_count": 22,
   "id": "78d07e33",
   "metadata": {},
   "outputs": [],
   "source": [
    "from sklearn.model_selection import train_test_split\n",
    "from sklearn.linear_model import LinearRegression\n",
    "from sklearn.svm import SVR\n",
    "from sklearn.ensemble import RandomForestRegressor\n",
    "from sklearn.metrics import mean_squared_error\n",
    "from sklearn.metrics import mean_absolute_error"
   ]
  },
  {
   "cell_type": "code",
   "execution_count": 23,
   "id": "625ca5f9",
   "metadata": {},
   "outputs": [
    {
     "name": "stdout",
     "output_type": "stream",
     "text": [
      "(7390, 5)\n",
      "(3168, 5)\n"
     ]
    }
   ],
   "source": [
    "x1 = X\n",
    "y1 = pr_1[\"price\"]\n",
    "train_x,test_x,train_y,test_y = train_test_split(x1,y1,test_size = 0.3,random_state=56)\n",
    "print(train_x.shape)\n",
    "print(test_x.shape)"
   ]
  },
  {
   "cell_type": "code",
   "execution_count": 24,
   "id": "c261dae7",
   "metadata": {},
   "outputs": [
    {
     "name": "stdout",
     "output_type": "stream",
     "text": [
      "0.3065853187796481\n",
      "0.21388291695542683\n",
      "Mean Absolute Error:  26.132825139059324\n"
     ]
    }
   ],
   "source": [
    "##Linear Regression\n",
    "regress = LinearRegression()\n",
    "regress.fit(train_x, train_y)\n",
    "predict = regress.predict(test_x)\n",
    "print(regress.score(train_x,train_y))\n",
    "print(regress.score(test_x,test_y))\n",
    "print(\"Mean Absolute Error: \",mean_absolute_error(test_y, predict))"
   ]
  },
  {
   "cell_type": "code",
   "execution_count": 27,
   "id": "43aabe22",
   "metadata": {},
   "outputs": [
    {
     "name": "stdout",
     "output_type": "stream",
     "text": [
      "0.39816855625395364\n",
      "0.3496708512738803\n",
      "Mean Absolute Error:  23.211511394951085\n"
     ]
    }
   ],
   "source": [
    "### Support Vector Regression\n",
    "vector = SVR(degree=5,kernel = 'rbf')\n",
    "vector.fit(train_x, train_y)\n",
    "pred_svr = vector.predict(test_x)\n",
    "print(vector.score(train_x,train_y))\n",
    "print(vector.score(test_x,test_y))\n",
    "print(\"Mean Absolute Error: \",mean_absolute_error(test_y, pred_svr))\n"
   ]
  },
  {
   "cell_type": "code",
   "execution_count": 31,
   "id": "549b7631",
   "metadata": {},
   "outputs": [
    {
     "name": "stdout",
     "output_type": "stream",
     "text": [
      "0.9902714564813344\n",
      "0.9989778002603042\n",
      "Mean Squared Error:  4.013136927131533\n",
      "Mean Absolute Error:  0.8646848642676759\n"
     ]
    }
   ],
   "source": [
    "### RandomForest Classifier\n",
    "rfr = RandomForestRegressor()\n",
    "rfr.fit(train_x,train_y)\n",
    "predict_value = rfr.predict(test_x)\n",
    "print(rfr.score(test_x,test_y))\n",
    "print(rfr.score(train_x,train_y))     \n",
    "print(\"Mean Squared Error: \",np.sqrt(mean_squared_error(test_y, predict_value)))\n",
    "print(\"Mean Absolute Error: \",mean_absolute_error(test_y, predict_value))"
   ]
  },
  {
   "cell_type": "code",
   "execution_count": null,
   "id": "248a2339",
   "metadata": {},
   "outputs": [],
   "source": []
  },
  {
   "cell_type": "code",
   "execution_count": null,
   "id": "fad45f0b",
   "metadata": {},
   "outputs": [],
   "source": []
  }
 ],
 "metadata": {
  "kernelspec": {
   "display_name": "Python 3 (ipykernel)",
   "language": "python",
   "name": "python3"
  },
  "language_info": {
   "codemirror_mode": {
    "name": "ipython",
    "version": 3
   },
   "file_extension": ".py",
   "mimetype": "text/x-python",
   "name": "python",
   "nbconvert_exporter": "python",
   "pygments_lexer": "ipython3",
   "version": "3.10.6"
  }
 },
 "nbformat": 4,
 "nbformat_minor": 5
}
